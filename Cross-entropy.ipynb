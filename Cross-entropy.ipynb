{
 "cells": [
  {
   "cell_type": "code",
   "execution_count": 3,
   "metadata": {},
   "outputs": [
    {
     "name": "stdout",
     "output_type": "stream",
     "text": [
      "Extracting MNIST_data/train-images-idx3-ubyte.gz\n",
      "Extracting MNIST_data/train-labels-idx1-ubyte.gz\n",
      "Extracting MNIST_data/t10k-images-idx3-ubyte.gz\n",
      "Extracting MNIST_data/t10k-labels-idx1-ubyte.gz\n",
      "Iter 0,Testing Accuracy 0.8243\n",
      "Iter 1,Testing Accuracy 0.8838\n",
      "Iter 2,Testing Accuracy 0.9013\n",
      "Iter 3,Testing Accuracy 0.9048\n",
      "Iter 4,Testing Accuracy 0.9079\n",
      "Iter 5,Testing Accuracy 0.9107\n",
      "Iter 6,Testing Accuracy 0.9109\n",
      "Iter 7,Testing Accuracy 0.913\n",
      "Iter 8,Testing Accuracy 0.9143\n",
      "Iter 9,Testing Accuracy 0.9162\n",
      "Iter 10,Testing Accuracy 0.9177\n",
      "Iter 11,Testing Accuracy 0.9184\n",
      "Iter 12,Testing Accuracy 0.9192\n",
      "Iter 13,Testing Accuracy 0.9198\n",
      "Iter 14,Testing Accuracy 0.9201\n",
      "Iter 15,Testing Accuracy 0.9196\n",
      "Iter 16,Testing Accuracy 0.9209\n",
      "Iter 17,Testing Accuracy 0.9204\n",
      "Iter 18,Testing Accuracy 0.9207\n",
      "Iter 19,Testing Accuracy 0.9206\n",
      "Iter 20,Testing Accuracy 0.9217\n"
     ]
    }
   ],
   "source": [
    "#loading mnist\n",
    "mnist = input_data.read_data_sets(\"MNIST_data\", one_hot=True)\n",
    "\n",
    "#define batch size\n",
    "batch_size = 100\n",
    "#count how many batch\n",
    "n_batch = mnist.train.num_examples // batch_size\n",
    "\n",
    "#define placeholder\n",
    "x = tf.placeholder(tf.float32,[None,784])\n",
    "y = tf.placeholder(tf.float32,[None,10])\n",
    "\n",
    "#create NN(input:784 into:10)\n",
    "W = tf.Variable(tf.zeros([784,10]))\n",
    "b = tf.Variable(tf.zeros([10]))\n",
    "prediction = tf.nn.softmax(tf.matmul(x,W)+b)\n",
    "\n",
    "#loss\n",
    "# loss = tf.reduce_mean(tf.square(y-prediction))gu\n",
    "loss=tf.reduce_mean(tf.nn.softmax_cross_entropy_with_logits(labels=y,logits=prediction))\n",
    "#gradientDescent\n",
    "train_step = tf.train.GradientDescentOptimizer(0.2).minimize(loss)\n",
    "\n",
    "#init\n",
    "init = tf.global_variables_initializer()\n",
    "\n",
    "#result maintain(return most possible number)\n",
    "correct_prediction = tf.equal(tf.argmax(y,1),tf.argmax(prediction,1))\n",
    "\n",
    "#get accuracy(turn T/F to possible(0.25))\n",
    "accuracy = tf.reduce_mean(tf.cast(correct_prediction,tf.float32))\n",
    "\n",
    "with tf.Session() as sess:\n",
    "    sess.run(init)\n",
    "    for epoch in range(21):\n",
    "        for batch in range(n_batch):\n",
    "            batch_xs, batch_ys = mnist.train.next_batch(batch_size)\n",
    "            sess.run(train_step,feed_dict= {x:batch_xs,y:batch_ys})\n",
    "            \n",
    "        acc = sess.run(accuracy,feed_dict={x:mnist.test.images,y:mnist.test.labels})\n",
    "        print(\"Iter \"+str(epoch)+\",Testing Accuracy \"+ str(acc))"
   ]
  },
  {
   "cell_type": "code",
   "execution_count": 1,
   "metadata": {},
   "outputs": [],
   "source": [
    "import os \n",
    "os.environ['TF_CPP_MIN_LOG_LEVEL']='2'\n",
    "\n",
    "import tensorflow as tf\n",
    "from tensorflow.examples.tutorials.mnist import input_data"
   ]
  }
 ],
 "metadata": {
  "kernelspec": {
   "display_name": "Python TF",
   "language": "python",
   "name": "tf"
  },
  "language_info": {
   "codemirror_mode": {
    "name": "ipython",
    "version": 3
   },
   "file_extension": ".py",
   "mimetype": "text/x-python",
   "name": "python",
   "nbconvert_exporter": "python",
   "pygments_lexer": "ipython3",
   "version": "3.6.8"
  }
 },
 "nbformat": 4,
 "nbformat_minor": 2
}
