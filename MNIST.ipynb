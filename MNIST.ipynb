{
 "cells": [
  {
   "cell_type": "code",
   "execution_count": 1,
   "metadata": {},
   "outputs": [
    {
     "name": "stderr",
     "output_type": "stream",
     "text": [
      "WARNING: Logging before flag parsing goes to stderr.\n",
      "W0823 12:48:17.805553 140692177606464 deprecation.py:323] From <ipython-input-1-0eb236bafd1a>:5: read_data_sets (from tensorflow.contrib.learn.python.learn.datasets.mnist) is deprecated and will be removed in a future version.\n",
      "Instructions for updating:\n",
      "Please use alternatives such as official/mnist/dataset.py from tensorflow/models.\n",
      "W0823 12:48:17.806210 140692177606464 deprecation.py:323] From /home/se7ven/anaconda3/envs/tf/lib/python3.6/site-packages/tensorflow/contrib/learn/python/learn/datasets/mnist.py:260: maybe_download (from tensorflow.contrib.learn.python.learn.datasets.base) is deprecated and will be removed in a future version.\n",
      "Instructions for updating:\n",
      "Please write your own downloading logic.\n",
      "W0823 12:48:17.806980 140692177606464 deprecation.py:323] From /home/se7ven/anaconda3/envs/tf/lib/python3.6/site-packages/tensorflow/contrib/learn/python/learn/datasets/mnist.py:262: extract_images (from tensorflow.contrib.learn.python.learn.datasets.mnist) is deprecated and will be removed in a future version.\n",
      "Instructions for updating:\n",
      "Please use tf.data to implement this functionality.\n",
      "W0823 12:48:17.998631 140692177606464 deprecation.py:323] From /home/se7ven/anaconda3/envs/tf/lib/python3.6/site-packages/tensorflow/contrib/learn/python/learn/datasets/mnist.py:267: extract_labels (from tensorflow.contrib.learn.python.learn.datasets.mnist) is deprecated and will be removed in a future version.\n",
      "Instructions for updating:\n",
      "Please use tf.data to implement this functionality.\n",
      "W0823 12:48:18.000109 140692177606464 deprecation.py:323] From /home/se7ven/anaconda3/envs/tf/lib/python3.6/site-packages/tensorflow/contrib/learn/python/learn/datasets/mnist.py:110: dense_to_one_hot (from tensorflow.contrib.learn.python.learn.datasets.mnist) is deprecated and will be removed in a future version.\n",
      "Instructions for updating:\n",
      "Please use tf.one_hot on tensors.\n"
     ]
    },
    {
     "name": "stdout",
     "output_type": "stream",
     "text": [
      "Extracting MNIST_data/train-images-idx3-ubyte.gz\n",
      "Extracting MNIST_data/train-labels-idx1-ubyte.gz\n",
      "Extracting MNIST_data/t10k-images-idx3-ubyte.gz\n"
     ]
    },
    {
     "name": "stderr",
     "output_type": "stream",
     "text": [
      "W0823 12:48:18.036572 140692177606464 deprecation.py:323] From /home/se7ven/anaconda3/envs/tf/lib/python3.6/site-packages/tensorflow/contrib/learn/python/learn/datasets/mnist.py:290: DataSet.__init__ (from tensorflow.contrib.learn.python.learn.datasets.mnist) is deprecated and will be removed in a future version.\n",
      "Instructions for updating:\n",
      "Please use alternatives such as official/mnist/dataset.py from tensorflow/models.\n"
     ]
    },
    {
     "name": "stdout",
     "output_type": "stream",
     "text": [
      "Extracting MNIST_data/t10k-labels-idx1-ubyte.gz\n"
     ]
    }
   ],
   "source": [
    "import tensorflow as tf\n",
    "from tensorflow.examples.tutorials.mnist import input_data\n",
    "\n",
    "#loading mnist\n",
    "mnist = input_data.read_data_sets(\"MNIST_data\", one_hot=True)"
   ]
  },
  {
   "cell_type": "code",
   "execution_count": 2,
   "metadata": {},
   "outputs": [
    {
     "name": "stdout",
     "output_type": "stream",
     "text": [
      "Iter 0,Testing Accuracy 0.8705\n",
      "Iter 1,Testing Accuracy 0.8883\n",
      "Iter 2,Testing Accuracy 0.8966\n",
      "Iter 3,Testing Accuracy 0.9014\n",
      "Iter 4,Testing Accuracy 0.9049\n",
      "Iter 5,Testing Accuracy 0.907\n",
      "Iter 6,Testing Accuracy 0.9096\n",
      "Iter 7,Testing Accuracy 0.9109\n",
      "Iter 8,Testing Accuracy 0.9121\n",
      "Iter 9,Testing Accuracy 0.9135\n",
      "Iter 10,Testing Accuracy 0.9142\n",
      "Iter 11,Testing Accuracy 0.9156\n",
      "Iter 12,Testing Accuracy 0.9164\n",
      "Iter 13,Testing Accuracy 0.9162\n",
      "Iter 14,Testing Accuracy 0.9172\n",
      "Iter 15,Testing Accuracy 0.9183\n",
      "Iter 16,Testing Accuracy 0.9185\n",
      "Iter 17,Testing Accuracy 0.9182\n",
      "Iter 18,Testing Accuracy 0.9194\n",
      "Iter 19,Testing Accuracy 0.9203\n",
      "Iter 20,Testing Accuracy 0.9205\n",
      "Iter 21,Testing Accuracy 0.9198\n",
      "Iter 22,Testing Accuracy 0.9204\n",
      "Iter 23,Testing Accuracy 0.9214\n",
      "Iter 24,Testing Accuracy 0.9215\n",
      "Iter 25,Testing Accuracy 0.9217\n",
      "Iter 26,Testing Accuracy 0.9218\n",
      "Iter 27,Testing Accuracy 0.922\n",
      "Iter 28,Testing Accuracy 0.9225\n",
      "Iter 29,Testing Accuracy 0.9223\n",
      "Iter 30,Testing Accuracy 0.9235\n",
      "Iter 31,Testing Accuracy 0.9228\n",
      "Iter 32,Testing Accuracy 0.9235\n",
      "Iter 33,Testing Accuracy 0.9233\n",
      "Iter 34,Testing Accuracy 0.9238\n",
      "Iter 35,Testing Accuracy 0.9238\n",
      "Iter 36,Testing Accuracy 0.9236\n",
      "Iter 37,Testing Accuracy 0.9239\n",
      "Iter 38,Testing Accuracy 0.9245\n",
      "Iter 39,Testing Accuracy 0.9245\n",
      "Iter 40,Testing Accuracy 0.9249\n",
      "Iter 41,Testing Accuracy 0.9252\n",
      "Iter 42,Testing Accuracy 0.9257\n",
      "Iter 43,Testing Accuracy 0.9258\n",
      "Iter 44,Testing Accuracy 0.9261\n",
      "Iter 45,Testing Accuracy 0.9249\n",
      "Iter 46,Testing Accuracy 0.9251\n",
      "Iter 47,Testing Accuracy 0.9254\n",
      "Iter 48,Testing Accuracy 0.9259\n",
      "Iter 49,Testing Accuracy 0.9262\n",
      "Iter 50,Testing Accuracy 0.9265\n",
      "Iter 51,Testing Accuracy 0.9275\n",
      "Iter 52,Testing Accuracy 0.9267\n",
      "Iter 53,Testing Accuracy 0.9269\n",
      "Iter 54,Testing Accuracy 0.9264\n",
      "Iter 55,Testing Accuracy 0.9274\n",
      "Iter 56,Testing Accuracy 0.9265\n",
      "Iter 57,Testing Accuracy 0.9267\n",
      "Iter 58,Testing Accuracy 0.9269\n",
      "Iter 59,Testing Accuracy 0.9269\n"
     ]
    }
   ],
   "source": [
    "#define batch size\n",
    "batch_size = 100\n",
    "#count how many batch\n",
    "n_batch = mnist.train.num_examples // batch_size\n",
    "\n",
    "#define placeholder\n",
    "x = tf.placeholder(tf.float32,[None,784])\n",
    "y = tf.placeholder(tf.float32,[None,10])\n",
    "\n",
    "#create NN(input:784 into:10)\n",
    "W = tf.Variable(tf.zeros([784,10]))\n",
    "b = tf.Variable(tf.zeros([10]))\n",
    "prediction = tf.nn.softmax(tf.matmul(x,W)+b)\n",
    "\n",
    "#costs\n",
    "loss = tf.reduce_mean(tf.square(y-prediction))\n",
    "#gradientDescent\n",
    "train_step = tf.train.GradientDescentOptimizer(0.4).minimize(loss)\n",
    "\n",
    "#init\n",
    "init = tf.global_variables_initializer()\n",
    "\n",
    "#result maintain(return most possible number)\n",
    "correct_prediction = tf.equal(tf.argmax(y,1),tf.argmax(prediction,1))\n",
    "\n",
    "#get accuracy(turn T/F to possible(0.25))\n",
    "accuracy = tf.reduce_mean(tf.cast(correct_prediction,tf.float32))\n",
    "\n",
    "with tf.Session() as sess:\n",
    "    sess.run(init)\n",
    "    for epoch in range(60):\n",
    "        for batch in range(n_batch):\n",
    "            batch_xs, batch_ys = mnist.train.next_batch(batch_size)\n",
    "            sess.run(train_step,feed_dict= {x:batch_xs,y:batch_ys})\n",
    "            \n",
    "        acc = sess.run(accuracy,feed_dict={x:mnist.test.images,y:mnist.test.labels})\n",
    "        print(\"Iter \"+str(epoch)+\",Testing Accuracy \"+ str(acc))"
   ]
  },
  {
   "cell_type": "code",
   "execution_count": null,
   "metadata": {},
   "outputs": [],
   "source": []
  }
 ],
 "metadata": {
  "kernelspec": {
   "display_name": "Python 3",
   "language": "python",
   "name": "python3"
  },
  "language_info": {
   "codemirror_mode": {
    "name": "ipython",
    "version": 3
   },
   "file_extension": ".py",
   "mimetype": "text/x-python",
   "name": "python",
   "nbconvert_exporter": "python",
   "pygments_lexer": "ipython3",
   "version": "3.6.9"
  }
 },
 "nbformat": 4,
 "nbformat_minor": 2
}
